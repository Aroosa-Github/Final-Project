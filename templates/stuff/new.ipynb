{
 "metadata": {
  "language_info": {
   "codemirror_mode": {
    "name": "ipython",
    "version": 3
   },
   "file_extension": ".py",
   "mimetype": "text/x-python",
   "name": "python",
   "nbconvert_exporter": "python",
   "pygments_lexer": "ipython3",
   "version": "3.8.5"
  },
  "orig_nbformat": 2,
  "kernelspec": {
   "name": "python385jvsc74a57bd025dd71d175dacbdc7bc6f0737688b24d317e1ba140395f48d297e2109389b449",
   "display_name": "Python 3.8.5 64-bit ('base': conda)"
  }
 },
 "nbformat": 4,
 "nbformat_minor": 2,
 "cells": [
  {
   "cell_type": "code",
   "execution_count": 1,
   "metadata": {},
   "outputs": [
    {
     "output_type": "stream",
     "name": "stdout",
     "text": [
      "Collecting streamlit\n  Downloading streamlit-0.82.0-py2.py3-none-any.whl (8.2 MB)\nCollecting astor\n  Downloading astor-0.8.1-py2.py3-none-any.whl (27 kB)\nRequirement already satisfied: requests in c:\\users\\aroos\\anaconda3\\lib\\site-packages (from streamlit) (2.24.0)\nRequirement already satisfied: pillow>=6.2.0 in c:\\users\\aroos\\anaconda3\\lib\\site-packages (from streamlit) (8.0.1)\nRequirement already satisfied: cachetools>=4.0 in c:\\users\\aroos\\anaconda3\\lib\\site-packages (from streamlit) (4.2.2)\nRequirement already satisfied: python-dateutil in c:\\users\\aroos\\anaconda3\\lib\\site-packages (from streamlit) (2.8.1)\nCollecting gitpython\n  Downloading GitPython-3.1.17-py3-none-any.whl (166 kB)\nCollecting pyarrow; python_version < \"3.9\"\n  Downloading pyarrow-4.0.0-cp38-cp38-win_amd64.whl (13.3 MB)\nRequirement already satisfied: tornado>=5.0 in c:\\users\\aroos\\anaconda3\\lib\\site-packages (from streamlit) (6.0.4)\nRequirement already satisfied: pandas>=0.21.0 in c:\\users\\aroos\\anaconda3\\lib\\site-packages (from streamlit) (1.1.3)\nCollecting blinker\n  Downloading blinker-1.4.tar.gz (111 kB)\nRequirement already satisfied: protobuf!=3.11,>=3.6.0 in c:\\users\\aroos\\anaconda3\\lib\\site-packages (from streamlit) (3.17.1)\nRequirement already satisfied: toml in c:\\users\\aroos\\anaconda3\\lib\\site-packages (from streamlit) (0.10.1)\nRequirement already satisfied: packaging in c:\\users\\aroos\\anaconda3\\lib\\site-packages (from streamlit) (20.4)\nRequirement already satisfied: numpy in c:\\users\\aroos\\anaconda3\\lib\\site-packages (from streamlit) (1.19.2)\nRequirement already satisfied: click<8.0,>=7.0 in c:\\users\\aroos\\anaconda3\\lib\\site-packages (from streamlit) (7.1.2)\nCollecting altair>=3.2.0\n  Downloading altair-4.1.0-py3-none-any.whl (727 kB)\nCollecting validators\n  Downloading validators-0.18.2-py3-none-any.whl (19 kB)\nCollecting tzlocal\n  Downloading tzlocal-2.1-py2.py3-none-any.whl (16 kB)\nRequirement already satisfied: watchdog; platform_system != \"Darwin\" in c:\\users\\aroos\\anaconda3\\lib\\site-packages (from streamlit) (0.10.3)\nCollecting pydeck>=0.1.dev5\n  Downloading pydeck-0.6.2-py2.py3-none-any.whl (4.2 MB)\nCollecting base58\n  Downloading base58-2.1.0-py3-none-any.whl (5.6 kB)\nRequirement already satisfied: chardet<4,>=3.0.2 in c:\\users\\aroos\\anaconda3\\lib\\site-packages (from requests->streamlit) (3.0.4)\nRequirement already satisfied: idna<3,>=2.5 in c:\\users\\aroos\\anaconda3\\lib\\site-packages (from requests->streamlit) (2.10)\nRequirement already satisfied: urllib3!=1.25.0,!=1.25.1,<1.26,>=1.21.1 in c:\\users\\aroos\\anaconda3\\lib\\site-packages (from requests->streamlit) (1.25.11)\nRequirement already satisfied: certifi>=2017.4.17 in c:\\users\\aroos\\anaconda3\\lib\\site-packages (from requests->streamlit) (2020.6.20)\nRequirement already satisfied: six>=1.5 in c:\\users\\aroos\\anaconda3\\lib\\site-packages (from python-dateutil->streamlit) (1.15.0)\nCollecting gitdb<5,>=4.0.1\n  Downloading gitdb-4.0.7-py3-none-any.whl (63 kB)\nRequirement already satisfied: pytz>=2017.2 in c:\\users\\aroos\\anaconda3\\lib\\site-packages (from pandas>=0.21.0->streamlit) (2020.1)\nRequirement already satisfied: pyparsing>=2.0.2 in c:\\users\\aroos\\anaconda3\\lib\\site-packages (from packaging->streamlit) (2.4.7)\nRequirement already satisfied: jinja2 in c:\\users\\aroos\\anaconda3\\lib\\site-packages (from altair>=3.2.0->streamlit) (2.11.2)\nRequirement already satisfied: toolz in c:\\users\\aroos\\anaconda3\\lib\\site-packages (from altair>=3.2.0->streamlit) (0.11.1)\nRequirement already satisfied: jsonschema in c:\\users\\aroos\\anaconda3\\lib\\site-packages (from altair>=3.2.0->streamlit) (3.2.0)\nRequirement already satisfied: entrypoints in c:\\users\\aroos\\anaconda3\\lib\\site-packages (from altair>=3.2.0->streamlit) (0.3)\nRequirement already satisfied: decorator>=3.4.0 in c:\\users\\aroos\\anaconda3\\lib\\site-packages (from validators->streamlit) (4.4.2)\nRequirement already satisfied: pathtools>=0.1.1 in c:\\users\\aroos\\anaconda3\\lib\\site-packages (from watchdog; platform_system != \"Darwin\"->streamlit) (0.1.2)\nRequirement already satisfied: ipykernel>=5.1.2; python_version >= \"3.4\" in c:\\users\\aroos\\anaconda3\\lib\\site-packages (from pydeck>=0.1.dev5->streamlit) (5.3.4)\nRequirement already satisfied: traitlets>=4.3.2 in c:\\users\\aroos\\anaconda3\\lib\\site-packages (from pydeck>=0.1.dev5->streamlit) (5.0.5)\nRequirement already satisfied: ipywidgets>=7.0.0 in c:\\users\\aroos\\anaconda3\\lib\\site-packages (from pydeck>=0.1.dev5->streamlit) (7.5.1)\nCollecting smmap<5,>=3.0.1\n  Downloading smmap-4.0.0-py2.py3-none-any.whl (24 kB)\nRequirement already satisfied: MarkupSafe>=0.23 in c:\\users\\aroos\\anaconda3\\lib\\site-packages (from jinja2->altair>=3.2.0->streamlit) (1.1.1)\nRequirement already satisfied: setuptools in c:\\users\\aroos\\anaconda3\\lib\\site-packages (from jsonschema->altair>=3.2.0->streamlit) (50.3.1.post20201107)\nRequirement already satisfied: attrs>=17.4.0 in c:\\users\\aroos\\anaconda3\\lib\\site-packages (from jsonschema->altair>=3.2.0->streamlit) (20.3.0)\nRequirement already satisfied: pyrsistent>=0.14.0 in c:\\users\\aroos\\anaconda3\\lib\\site-packages (from jsonschema->altair>=3.2.0->streamlit) (0.17.3)\nRequirement already satisfied: jupyter-client in c:\\users\\aroos\\anaconda3\\lib\\site-packages (from ipykernel>=5.1.2; python_version >= \"3.4\"->pydeck>=0.1.dev5->streamlit) (6.1.7)\nRequirement already satisfied: ipython>=5.0.0 in c:\\users\\aroos\\anaconda3\\lib\\site-packages (from ipykernel>=5.1.2; python_version >= \"3.4\"->pydeck>=0.1.dev5->streamlit) (7.19.0)\nRequirement already satisfied: ipython-genutils in c:\\users\\aroos\\anaconda3\\lib\\site-packages (from traitlets>=4.3.2->pydeck>=0.1.dev5->streamlit) (0.2.0)\nRequirement already satisfied: nbformat>=4.2.0 in c:\\users\\aroos\\anaconda3\\lib\\site-packages (from ipywidgets>=7.0.0->pydeck>=0.1.dev5->streamlit) (5.0.8)\nRequirement already satisfied: widgetsnbextension~=3.5.0 in c:\\users\\aroos\\anaconda3\\lib\\site-packages (from ipywidgets>=7.0.0->pydeck>=0.1.dev5->streamlit) (3.5.1)\nRequirement already satisfied: pyzmq>=13 in c:\\users\\aroos\\anaconda3\\lib\\site-packages (from jupyter-client->ipykernel>=5.1.2; python_version >= \"3.4\"->pydeck>=0.1.dev5->streamlit) (19.0.2)\nRequirement already satisfied: jupyter-core>=4.6.0 in c:\\users\\aroos\\anaconda3\\lib\\site-packages (from jupyter-client->ipykernel>=5.1.2; python_version >= \"3.4\"->pydeck>=0.1.dev5->streamlit) (4.6.3)\nRequirement already satisfied: prompt-toolkit!=3.0.0,!=3.0.1,<3.1.0,>=2.0.0 in c:\\users\\aroos\\anaconda3\\lib\\site-packages (from ipython>=5.0.0->ipykernel>=5.1.2; python_version >= \"3.4\"->pydeck>=0.1.dev5->streamlit) (3.0.8)\nRequirement already satisfied: colorama; sys_platform == \"win32\" in c:\\users\\aroos\\anaconda3\\lib\\site-packages (from ipython>=5.0.0->ipykernel>=5.1.2; python_version >= \"3.4\"->pydeck>=0.1.dev5->streamlit) (0.4.4)\nRequirement already satisfied: pickleshare in c:\\users\\aroos\\anaconda3\\lib\\site-packages (from ipython>=5.0.0->ipykernel>=5.1.2; python_version >= \"3.4\"->pydeck>=0.1.dev5->streamlit) (0.7.5)\nRequirement already satisfied: backcall in c:\\users\\aroos\\anaconda3\\lib\\site-packages (from ipython>=5.0.0->ipykernel>=5.1.2; python_version >= \"3.4\"->pydeck>=0.1.dev5->streamlit) (0.2.0)\nRequirement already satisfied: jedi>=0.10 in c:\\users\\aroos\\anaconda3\\lib\\site-packages (from ipython>=5.0.0->ipykernel>=5.1.2; python_version >= \"3.4\"->pydeck>=0.1.dev5->streamlit) (0.17.1)\nRequirement already satisfied: pygments in c:\\users\\aroos\\anaconda3\\lib\\site-packages (from ipython>=5.0.0->ipykernel>=5.1.2; python_version >= \"3.4\"->pydeck>=0.1.dev5->streamlit) (2.7.2)\nRequirement already satisfied: notebook>=4.4.1 in c:\\users\\aroos\\anaconda3\\lib\\site-packages (from widgetsnbextension~=3.5.0->ipywidgets>=7.0.0->pydeck>=0.1.dev5->streamlit) (6.1.4)\nRequirement already satisfied: pywin32>=1.0; sys_platform == \"win32\" in c:\\users\\aroos\\anaconda3\\lib\\site-packages (from jupyter-core>=4.6.0->jupyter-client->ipykernel>=5.1.2; python_version >= \"3.4\"->pydeck>=0.1.dev5->streamlit) (227)\nRequirement already satisfied: wcwidth in c:\\users\\aroos\\anaconda3\\lib\\site-packages (from prompt-toolkit!=3.0.0,!=3.0.1,<3.1.0,>=2.0.0->ipython>=5.0.0->ipykernel>=5.1.2; python_version >= \"3.4\"->pydeck>=0.1.dev5->streamlit) (0.2.5)\nRequirement already satisfied: parso<0.8.0,>=0.7.0 in c:\\users\\aroos\\anaconda3\\lib\\site-packages (from jedi>=0.10->ipython>=5.0.0->ipykernel>=5.1.2; python_version >= \"3.4\"->pydeck>=0.1.dev5->streamlit) (0.7.0)\nRequirement already satisfied: Send2Trash in c:\\users\\aroos\\anaconda3\\lib\\site-packages (from notebook>=4.4.1->widgetsnbextension~=3.5.0->ipywidgets>=7.0.0->pydeck>=0.1.dev5->streamlit) (1.5.0)\nRequirement already satisfied: terminado>=0.8.3 in c:\\users\\aroos\\anaconda3\\lib\\site-packages (from notebook>=4.4.1->widgetsnbextension~=3.5.0->ipywidgets>=7.0.0->pydeck>=0.1.dev5->streamlit) (0.9.1)\nRequirement already satisfied: prometheus-client in c:\\users\\aroos\\anaconda3\\lib\\site-packages (from notebook>=4.4.1->widgetsnbextension~=3.5.0->ipywidgets>=7.0.0->pydeck>=0.1.dev5->streamlit) (0.8.0)\nRequirement already satisfied: argon2-cffi in c:\\users\\aroos\\anaconda3\\lib\\site-packages (from notebook>=4.4.1->widgetsnbextension~=3.5.0->ipywidgets>=7.0.0->pydeck>=0.1.dev5->streamlit) (20.1.0)\nRequirement already satisfied: nbconvert in c:\\users\\aroos\\anaconda3\\lib\\site-packages (from notebook>=4.4.1->widgetsnbextension~=3.5.0->ipywidgets>=7.0.0->pydeck>=0.1.dev5->streamlit) (6.0.7)\nRequirement already satisfied: pywinpty>=0.5 in c:\\users\\aroos\\anaconda3\\lib\\site-packages (from terminado>=0.8.3->notebook>=4.4.1->widgetsnbextension~=3.5.0->ipywidgets>=7.0.0->pydeck>=0.1.dev5->streamlit) (0.5.7)\nRequirement already satisfied: cffi>=1.0.0 in c:\\users\\aroos\\anaconda3\\lib\\site-packages (from argon2-cffi->notebook>=4.4.1->widgetsnbextension~=3.5.0->ipywidgets>=7.0.0->pydeck>=0.1.dev5->streamlit) (1.14.3)\nRequirement already satisfied: defusedxml in c:\\users\\aroos\\anaconda3\\lib\\site-packages (from nbconvert->notebook>=4.4.1->widgetsnbextension~=3.5.0->ipywidgets>=7.0.0->pydeck>=0.1.dev5->streamlit) (0.6.0)\nRequirement already satisfied: nbclient<0.6.0,>=0.5.0 in c:\\users\\aroos\\anaconda3\\lib\\site-packages (from nbconvert->notebook>=4.4.1->widgetsnbextension~=3.5.0->ipywidgets>=7.0.0->pydeck>=0.1.dev5->streamlit) (0.5.1)\nRequirement already satisfied: pandocfilters>=1.4.1 in c:\\users\\aroos\\anaconda3\\lib\\site-packages (from nbconvert->notebook>=4.4.1->widgetsnbextension~=3.5.0->ipywidgets>=7.0.0->pydeck>=0.1.dev5->streamlit) (1.4.3)\nRequirement already satisfied: jupyterlab-pygments in c:\\users\\aroos\\anaconda3\\lib\\site-packages (from nbconvert->notebook>=4.4.1->widgetsnbextension~=3.5.0->ipywidgets>=7.0.0->pydeck>=0.1.dev5->streamlit) (0.1.2)\nRequirement already satisfied: mistune<2,>=0.8.1 in c:\\users\\aroos\\anaconda3\\lib\\site-packages (from nbconvert->notebook>=4.4.1->widgetsnbextension~=3.5.0->ipywidgets>=7.0.0->pydeck>=0.1.dev5->streamlit) (0.8.4)\nRequirement already satisfied: testpath in c:\\users\\aroos\\anaconda3\\lib\\site-packages (from nbconvert->notebook>=4.4.1->widgetsnbextension~=3.5.0->ipywidgets>=7.0.0->pydeck>=0.1.dev5->streamlit) (0.4.4)\nRequirement already satisfied: bleach in c:\\users\\aroos\\anaconda3\\lib\\site-packages (from nbconvert->notebook>=4.4.1->widgetsnbextension~=3.5.0->ipywidgets>=7.0.0->pydeck>=0.1.dev5->streamlit) (3.2.1)\nRequirement already satisfied: pycparser in c:\\users\\aroos\\anaconda3\\lib\\site-packages (from cffi>=1.0.0->argon2-cffi->notebook>=4.4.1->widgetsnbextension~=3.5.0->ipywidgets>=7.0.0->pydeck>=0.1.dev5->streamlit) (2.20)\nRequirement already satisfied: async-generator in c:\\users\\aroos\\anaconda3\\lib\\site-packages (from nbclient<0.6.0,>=0.5.0->nbconvert->notebook>=4.4.1->widgetsnbextension~=3.5.0->ipywidgets>=7.0.0->pydeck>=0.1.dev5->streamlit) (1.10)\nRequirement already satisfied: nest-asyncio in c:\\users\\aroos\\anaconda3\\lib\\site-packages (from nbclient<0.6.0,>=0.5.0->nbconvert->notebook>=4.4.1->widgetsnbextension~=3.5.0->ipywidgets>=7.0.0->pydeck>=0.1.dev5->streamlit) (1.4.2)\nRequirement already satisfied: webencodings in c:\\users\\aroos\\anaconda3\\lib\\site-packages (from bleach->nbconvert->notebook>=4.4.1->widgetsnbextension~=3.5.0->ipywidgets>=7.0.0->pydeck>=0.1.dev5->streamlit) (0.5.1)\nBuilding wheels for collected packages: blinker\n  Building wheel for blinker (setup.py): started\n  Building wheel for blinker (setup.py): finished with status 'done'\n  Created wheel for blinker: filename=blinker-1.4-py3-none-any.whl size=13454 sha256=dbd325295f87d661826c8259baed21867c65136f785f2cf8ecbafa47ea3323f5\n  Stored in directory: c:\\users\\aroos\\appdata\\local\\pip\\cache\\wheels\\b7\\a5\\68\\fe632054a5eadd531c7a49d740c50eb6adfbeca822b4eab8d4\nSuccessfully built blinker\nInstalling collected packages: astor, smmap, gitdb, gitpython, pyarrow, blinker, altair, validators, tzlocal, pydeck, base58, streamlit\nSuccessfully installed altair-4.1.0 astor-0.8.1 base58-2.1.0 blinker-1.4 gitdb-4.0.7 gitpython-3.1.17 pyarrow-4.0.0 pydeck-0.6.2 smmap-4.0.0 streamlit-0.82.0 tzlocal-2.1 validators-0.18.2\nNote: you may need to restart the kernel to use updated packages.\n"
     ]
    }
   ],
   "source": [
    "pip install streamlit"
   ]
  },
  {
   "cell_type": "code",
   "execution_count": 1,
   "metadata": {},
   "outputs": [
    {
     "output_type": "stream",
     "name": "stdout",
     "text": [
      "Note: you may need to restart the kernel to use updated packages.\n",
      "ERROR: Could not find a version that satisfies the requirement PIL (from versions: none)\n",
      "ERROR: No matching distribution found for PIL\n"
     ]
    }
   ],
   "source": [
    "pip install PIL"
   ]
  },
  {
   "cell_type": "code",
   "execution_count": 7,
   "metadata": {},
   "outputs": [
    {
     "output_type": "stream",
     "name": "stdout",
     "text": [
      "Requirement already satisfied: pillow in c:\\users\\aroos\\anaconda3\\lib\\site-packages (8.0.1)\nNote: you may need to restart the kernel to use updated packages.\n"
     ]
    }
   ],
   "source": [
    "pip install pillow \n"
   ]
  },
  {
   "cell_type": "code",
   "execution_count": 8,
   "metadata": {},
   "outputs": [
    {
     "output_type": "stream",
     "name": "stdout",
     "text": [
      "Requirement already satisfied: scipy in c:\\users\\aroos\\anaconda3\\lib\\site-packages (1.5.2)\nRequirement already satisfied: numpy>=1.14.5 in c:\\users\\aroos\\anaconda3\\lib\\site-packages (from scipy) (1.19.2)\nNote: you may need to restart the kernel to use updated packages.\n"
     ]
    }
   ],
   "source": [
    "pip install scipy"
   ]
  },
  {
   "cell_type": "code",
   "execution_count": 1,
   "metadata": {},
   "outputs": [
    {
     "output_type": "stream",
     "name": "stdout",
     "text": [
      "Note: you may need to restart the kernel to use updated packages.\n",
      "\n",
      "Usage:   \n",
      "  C:\\Users\\aroos\\anaconda3\\python.exe -m pip install [options] <requirement specifier> [package-index-options] ...\n",
      "  C:\\Users\\aroos\\anaconda3\\python.exe -m pip install [options] -r <requirements file> [package-index-options] ...\n",
      "  C:\\Users\\aroos\\anaconda3\\python.exe -m pip install [options] [-e] <vcs project url> ...\n",
      "  C:\\Users\\aroos\\anaconda3\\python.exe -m pip install [options] [-e] <local project path> ...\n",
      "  C:\\Users\\aroos\\anaconda3\\python.exe -m pip install [options] <archive url/path> ...\n",
      "\n",
      "-e option requires 1 argument\n"
     ]
    }
   ],
   "source": [
    "pip install -e "
   ]
  },
  {
   "cell_type": "code",
   "execution_count": 1,
   "metadata": {},
   "outputs": [
    {
     "output_type": "stream",
     "name": "stdout",
     "text": [
      "Note: you may need to restart the kernel to use updated packages.\n",
      "ERROR: File \"setup.py\" not found. Directory cannot be installed in editable mode: c:\\Users\\aroos\\LearnPython\\Assignment1\\diabetes\n"
     ]
    }
   ],
   "source": [
    "pip install -e ."
   ]
  },
  {
   "cell_type": "code",
   "execution_count": 1,
   "metadata": {},
   "outputs": [
    {
     "output_type": "stream",
     "name": "stdout",
     "text": [
      "[WinError 3] The system cannot find the path specified: 'streamlit_custom_slider/frontend'\nc:\\Users\\aroos\\LearnPython\\Assignment1\\diabetes\n"
     ]
    }
   ],
   "source": [
    "cd streamlit_custom_slider/frontend"
   ]
  },
  {
   "cell_type": "code",
   "execution_count": 1,
   "metadata": {},
   "outputs": [
    {
     "output_type": "stream",
     "name": "stdout",
     "text": [
      "Collecting iplot\n  Downloading iplot-0.0.0-py3-none-any.whl (1.3 kB)\nInstalling collected packages: iplot\nSuccessfully installed iplot-0.0.0\nNote: you may need to restart the kernel to use updated packages.\n"
     ]
    }
   ],
   "source": [
    "pip install iplot"
   ]
  },
  {
   "cell_type": "code",
   "execution_count": 1,
   "metadata": {},
   "outputs": [
    {
     "output_type": "stream",
     "name": "stdout",
     "text": [
      "Requirement already satisfied: Jinja2 in c:\\users\\aroos\\anaconda3\\lib\\site-packages (2.11.2)\nRequirement already satisfied: MarkupSafe>=0.23 in c:\\users\\aroos\\anaconda3\\lib\\site-packages (from Jinja2) (1.1.1)\nNote: you may need to restart the kernel to use updated packages.\n"
     ]
    }
   ],
   "source": [
    "pip install Jinja2"
   ]
  },
  {
   "cell_type": "code",
   "execution_count": null,
   "metadata": {},
   "outputs": [],
   "source": []
  }
 ]
}